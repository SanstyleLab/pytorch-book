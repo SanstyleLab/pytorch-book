{
 "cells": [
  {
   "cell_type": "markdown",
   "metadata": {},
   "source": [
    "# 解压数据集\n",
    "\n",
    "载入压缩数据："
   ]
  },
  {
   "cell_type": "code",
   "execution_count": 1,
   "metadata": {},
   "outputs": [],
   "source": [
    "from pathlib import Path\n",
    "from zipfile import ZipFile"
   ]
  },
  {
   "cell_type": "code",
   "execution_count": null,
   "metadata": {},
   "outputs": [],
   "source": [
    "zip_root= r'E:\\kaggle\\gan\\zip' # 数据压缩包所在目录\n",
    "out_dir = r'E:\\kaggle\\datasets\\building' # 解压后的目录"
   ]
  },
  {
   "cell_type": "markdown",
   "metadata": {},
   "source": [
    "打印压缩文件的名称："
   ]
  },
  {
   "cell_type": "code",
   "execution_count": 2,
   "metadata": {},
   "outputs": [
    {
     "name": "stdout",
     "output_type": "stream",
     "text": [
      "中景村落风貌.zip\n",
      "生成用.zip\n",
      "航拍总图.zip\n",
      "近景建筑风貌.zip\n",
      "远景村落风貌.zip\n"
     ]
    }
   ],
   "source": [
    "def print_zip_dataset(zip_root):\n",
    "    '''打印压缩文件的名称'''\n",
    "    for zip_dir in Path(zip_root).iterdir():\n",
    "        print(zip_dir.name)\n",
    "\n",
    "print_zip_dataset(zip_root)"
   ]
  },
  {
   "cell_type": "code",
   "execution_count": 3,
   "metadata": {},
   "outputs": [],
   "source": [
    "def decode_zip_path(path):\n",
    "    try:\n",
    "        path_name = path.decode('utf-8')\n",
    "    except:\n",
    "        path_name = path.encode('437').decode('gbk')\n",
    "        path_name = path_name.encode('utf-8').decode('utf-8')\n",
    "    return path_name\n",
    "\n",
    "\n",
    "def extract(zip_dir, out_dir):\n",
    "    '''解压单个数据集'''\n",
    "    with ZipFile(zip_dir, allowZip64=True) as Z:\n",
    "        for path in Z.namelist():\n",
    "            path = Z.extract(path, out_dir)\n",
    "            path = Path(path)\n",
    "            name = decode_zip_path(path.as_posix())\n",
    "            path = path.rename(name)\n",
    "\n",
    "def extract_all(zip_root, out_dir):\n",
    "    '''解压全部数据集'''\n",
    "    for zip_dir in Path(zip_root).iterdir():\n",
    "        # 解压单个数据集\n",
    "        extract(zip_dir, out_dir)\n",
    "    print(\"全部解压完成！\")"
   ]
  },
  {
   "cell_type": "code",
   "execution_count": 4,
   "metadata": {},
   "outputs": [],
   "source": [
    "# 解压全部数据集\n",
    "extract_all(zip_root, out_dir)"
   ]
  },
  {
   "cell_type": "markdown",
   "metadata": {},
   "source": [
    "```{note}\n",
    "需要删除空目录。\n",
    "```"
   ]
  }
 ],
 "metadata": {
  "interpreter": {
   "hash": "91729c9a28b52734f57b710b306c58b64be9d1e1e07c58fcc763d6d7bdf51c2c"
  },
  "kernelspec": {
   "display_name": "Python 3.9.5 64-bit ('torch': conda)",
   "name": "python3"
  },
  "language_info": {
   "codemirror_mode": {
    "name": "ipython",
    "version": 3
   },
   "file_extension": ".py",
   "mimetype": "text/x-python",
   "name": "python",
   "nbconvert_exporter": "python",
   "pygments_lexer": "ipython3",
   "version": "3.9.5"
  },
  "orig_nbformat": 4
 },
 "nbformat": 4,
 "nbformat_minor": 2
}
