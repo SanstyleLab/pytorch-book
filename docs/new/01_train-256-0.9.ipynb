{
 "cells": [
  {
   "cell_type": "code",
   "execution_count": null,
   "metadata": {},
   "outputs": [],
   "source": [
    "cd ../../apps"
   ]
  },
  {
   "cell_type": "code",
   "execution_count": null,
   "metadata": {},
   "outputs": [],
   "source": [
    "from torchvision.utils import save_image\n",
    "import torch\n",
    "import time\n",
    "from matplotlib import pyplot as plt \n",
    "\n",
    "from tools.file import mkdir\n",
    "from utils.torch_loader_all import Loader\n",
    "from tools.toml import load_option\n",
    "from app import  init, mask_op, array2image"
   ]
  },
  {
   "cell_type": "code",
   "execution_count": null,
   "metadata": {},
   "outputs": [],
   "source": [
    "# 超参数设定\n",
    "## 固定参数\n",
    "epochs = 120\n",
    "display_freq = 100\n",
    "save_epoch_freq = 1\n",
    "\n",
    "## 模型参数\n",
    "alpha = 0.9\n",
    "beta = 0.9\n",
    "\n",
    "fine_size = 256\n",
    "opt = load_option(f'../origin/train-{fine_size}-new.toml')\n",
    "print(opt)\n",
    "loader = Loader(**opt)\n",
    "\n",
    "model_name = f'CSAx-{fine_size}-{beta}-{alpha}'\n",
    "base_opt = load_option(f'../options/base{fine_size}.toml')\n",
    "model_opt = load_option('../options/train-new.toml')\n",
    "model = init(model_name, beta, model_opt, base_opt)\n",
    "image_save_dir = model.save_dir / 'images'\n",
    "mkdir(image_save_dir)"
   ]
  },
  {
   "cell_type": "code",
   "execution_count": null,
   "metadata": {},
   "outputs": [],
   "source": [
    "# 训练阶段\n",
    "start_epoch = 0\n",
    "total_steps = 0\n",
    "iter_start_time = time.time()\n",
    "for epoch in range(start_epoch, epochs):\n",
    "    epoch_start_time = time.time()\n",
    "    epoch_iter = 0\n",
    "    epoch_iter = 0\n",
    "    # 初始化数据集\n",
    "    trainset = loader.trainset() # 训练集\n",
    "    maskset = loader.maskset() # mask 数据集\n",
    "    for (image, _), mask in zip(trainset, maskset):\n",
    "        mask = mask_op(mask)\n",
    "        total_steps += model.batch_size\n",
    "        epoch_iter += model.batch_size\n",
    "        # it not only sets the input data with mask,\n",
    "        #  but also sets the latent mask.\n",
    "        model.set_input(image, mask)\n",
    "        model.set_gt_latent()\n",
    "        model.optimize_parameters()\n",
    "        if total_steps % display_freq == 0:\n",
    "            real_A, real_B, fake_B = model.get_current_visuals()\n",
    "            # real_A=input, real_B=ground truth fake_b=output\n",
    "            pic = (torch.cat([real_A, real_B, fake_B], dim=0) + 1) / 2.0\n",
    "            image_name = f\"epoch{epoch}-{total_steps}-{alpha}.png\"\n",
    "            save_image(pic, image_save_dir/image_name, ncol=1)\n",
    "        if total_steps % 100 == 0:\n",
    "            errors = model.get_current_errors()\n",
    "            t = (time.time() - iter_start_time) / model.batch_size\n",
    "            print(\n",
    "                f\"Epoch/total_steps/alpha-beta: {epoch}/{total_steps}/{alpha}-{beta}\", dict(errors))\n",
    "    if epoch % save_epoch_freq == 0:\n",
    "        print(f'保存模型 Epoch {epoch}, iters {total_steps} 在 {model.save_dir}')\n",
    "        model.save(epoch)\n",
    "    print(\n",
    "        f'Epoch/Epochs {epoch}/{epochs-1} 花费时间：{time.time() - epoch_start_time}s')\n",
    "    model.update_learning_rate()"
   ]
  },
  {
   "cell_type": "code",
   "execution_count": null,
   "metadata": {},
   "outputs": [],
   "source": []
  }
 ],
 "metadata": {
  "interpreter": {
   "hash": "91729c9a28b52734f57b710b306c58b64be9d1e1e07c58fcc763d6d7bdf51c2c"
  },
  "kernelspec": {
   "display_name": "Python 3.9.5 64-bit ('torch': conda)",
   "language": "python",
   "name": "python3"
  },
  "language_info": {
   "codemirror_mode": {
    "name": "ipython",
    "version": 3
   },
   "file_extension": ".py",
   "mimetype": "text/x-python",
   "name": "python",
   "nbconvert_exporter": "python",
   "pygments_lexer": "ipython3",
   "version": "3.9.5"
  },
  "orig_nbformat": 4
 },
 "nbformat": 4,
 "nbformat_minor": 2
}
