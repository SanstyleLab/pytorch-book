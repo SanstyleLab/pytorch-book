{
 "cells": [
  {
   "cell_type": "code",
   "execution_count": 1,
   "metadata": {},
   "outputs": [],
   "source": [
    "import sys\n",
    "\n",
    "root = '../..'\n",
    "sys.path.extend([f'{root}/apps'])"
   ]
  },
  {
   "cell_type": "code",
   "execution_count": 2,
   "metadata": {},
   "outputs": [],
   "source": [
    "from train import train_op"
   ]
  },
  {
   "cell_type": "code",
   "execution_count": 3,
   "metadata": {},
   "outputs": [],
   "source": [
    "# 超参数设定\n",
    "## 固定参数\n",
    "epochs = 120\n",
    "display_freq = 100\n",
    "save_epoch_freq = 1\n",
    "\n",
    "## 模型参数\n",
    "alpha = 1\n",
    "beta = 0.3\n",
    "\n",
    "fine_size = 256\n",
    "\n",
    "checkpoints_dir = 'D:/BaiduNetdiskWorkspace/results'\n",
    "gpu_ids = [0]\n",
    "which_epoch = -1"
   ]
  },
  {
   "cell_type": "code",
   "execution_count": 4,
   "metadata": {},
   "outputs": [
    {
     "name": "stdout",
     "output_type": "stream",
     "text": [
      "initialize network with normal\n",
      "initialize network with normal\n",
      "initialize network with normal\n",
      "initialize network with normal\n",
      "epoch: 0 \n",
      "\n",
      "Epoch/total_steps/alpha-beta/time: 0/100/1-0.3/199.76370930671692 {'G_GAN': 6.231268882751465, 'G_L1': 79.02684783935547, 'D': 1.384939432144165, 'F': 0.22566938400268555}\n",
      "Epoch/total_steps/alpha-beta/time: 0/200/1-0.3/394.9486131668091 {'G_GAN': 7.552056789398193, 'G_L1': 71.064453125, 'D': 0.822330117225647, 'F': 1.190791368484497}\n",
      "Epoch/total_steps/alpha-beta/time: 0/300/1-0.3/592.9385395050049 {'G_GAN': 6.06730318069458, 'G_L1': 62.94567108154297, 'D': 1.5058659315109253, 'F': 0.19888082146644592}\n"
     ]
    }
   ],
   "source": [
    "train_op(alpha, beta, checkpoints_dir,\n",
    "         gpu_ids, fine_size,\n",
    "         epochs, display_freq,\n",
    "         save_epoch_freq,\n",
    "         which_epoch=which_epoch)"
   ]
  }
 ],
 "metadata": {
  "interpreter": {
   "hash": "91729c9a28b52734f57b710b306c58b64be9d1e1e07c58fcc763d6d7bdf51c2c"
  },
  "kernelspec": {
   "display_name": "Python 3.9.5 64-bit ('torch': conda)",
   "language": "python",
   "name": "python3"
  },
  "language_info": {
   "codemirror_mode": {
    "name": "ipython",
    "version": 3
   },
   "file_extension": ".py",
   "mimetype": "text/x-python",
   "name": "python",
   "nbconvert_exporter": "python",
   "pygments_lexer": "ipython3",
   "version": "3.9.5"
  },
  "orig_nbformat": 4
 },
 "nbformat": 4,
 "nbformat_minor": 2
}
