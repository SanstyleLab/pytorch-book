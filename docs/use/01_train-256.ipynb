{
 "cells": [
  {
   "cell_type": "code",
   "execution_count": 1,
   "metadata": {},
   "outputs": [
    {
     "name": "stdout",
     "output_type": "stream",
     "text": [
      "e:\\kaggle\\pytorch-book\\apps\n"
     ]
    }
   ],
   "source": [
    "cd ../../apps"
   ]
  },
  {
   "cell_type": "code",
   "execution_count": 4,
   "metadata": {},
   "outputs": [],
   "source": [
    "from torchvision.utils import save_image\n",
    "import torch\n",
    "import time\n",
    "from matplotlib import pyplot as plt \n",
    "\n",
    "from tools.file import mkdir\n",
    "from utils.torch_loader_all import Loader\n",
    "from tools.toml import load_option\n",
    "from app import  init, mask_op, array2image"
   ]
  },
  {
   "cell_type": "code",
   "execution_count": 5,
   "metadata": {},
   "outputs": [
    {
     "name": "stdout",
     "output_type": "stream",
     "text": [
      "{'root': 'E:/kaggle/datasets/buildings', 'mask': 'D:/kaggle/dataset/mask/testing_mask_dataset', 'fine_size': 256, 'batch_size': 1}\n"
     ]
    }
   ],
   "source": [
    "opt = load_option('../origin/train-256.toml')\n",
    "print(opt)\n",
    "loader = Loader(**opt)"
   ]
  },
  {
   "cell_type": "code",
   "execution_count": null,
   "metadata": {},
   "outputs": [],
   "source": [
    "model_name = 'CSA-256'\n",
    "beta = 1\n",
    "base_opt = load_option('../options/base.toml')\n",
    "model_opt = load_option('../options/train-new.toml')\n",
    "model = init(model_name, beta, model_opt, base_opt)"
   ]
  }
 ],
 "metadata": {
  "interpreter": {
   "hash": "91729c9a28b52734f57b710b306c58b64be9d1e1e07c58fcc763d6d7bdf51c2c"
  },
  "kernelspec": {
   "display_name": "Python 3.9.5 64-bit ('torch': conda)",
   "language": "python",
   "name": "python3"
  },
  "language_info": {
   "codemirror_mode": {
    "name": "ipython",
    "version": 3
   },
   "file_extension": ".py",
   "mimetype": "text/x-python",
   "name": "python",
   "nbconvert_exporter": "python",
   "pygments_lexer": "ipython3",
   "version": "3.9.5"
  },
  "orig_nbformat": 4
 },
 "nbformat": 4,
 "nbformat_minor": 2
}
